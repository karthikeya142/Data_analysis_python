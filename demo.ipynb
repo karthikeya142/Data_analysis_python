{
 "cells": [
  {
   "cell_type": "code",
   "execution_count": 1,
   "id": "fbee4715-76d7-4ca3-b0e3-ea5c56a46f5d",
   "metadata": {},
   "outputs": [
    {
     "name": "stdout",
     "output_type": "stream",
     "text": [
      "Hello Karthikeya!\n",
      "how was the day\n"
     ]
    }
   ],
   "source": [
    "print(\"Hello Karthikeya!\")\n",
    "print(\"how was the day\")"
   ]
  },
  {
   "cell_type": "code",
   "execution_count": null,
   "id": "d3198955-947a-4663-a175-7b024af196cb",
   "metadata": {},
   "outputs": [],
   "source": []
  }
 ],
 "metadata": {
  "kernelspec": {
   "display_name": "Python 3 (ipykernel)",
   "language": "python",
   "name": "python3"
  },
  "language_info": {
   "codemirror_mode": {
    "name": "ipython",
    "version": 3
   },
   "file_extension": ".py",
   "mimetype": "text/x-python",
   "name": "python",
   "nbconvert_exporter": "python",
   "pygments_lexer": "ipython3",
   "version": "3.9.0"
  }
 },
 "nbformat": 4,
 "nbformat_minor": 5
}
